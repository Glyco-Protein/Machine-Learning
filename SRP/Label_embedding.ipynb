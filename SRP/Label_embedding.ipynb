{
 "cells": [
  {
   "cell_type": "code",
   "execution_count": 1,
   "id": "6ad14f67",
   "metadata": {},
   "outputs": [],
   "source": [
    "import torch\n",
    "from transformers import AutoModel,AutoConfig,AutoTokenizer,AutoModelForSequenceClassification,Trainer,TrainingArguments,DataCollatorWithPadding\n",
    "import os\n",
    "os.environ['KMP_DUPLICATE_LIB_OK']='True'\n",
    "import matplotlib.pyplot as plt\n",
    "import numpy as np\n",
    "import pandas as pd\n",
    "from datasets import load_dataset, Dataset, DatasetDict\n",
    "import evaluate\n",
    "import re\n",
    "from pygtrans import Translate"
   ]
  },
  {
   "cell_type": "code",
   "execution_count": 2,
   "id": "8f4a8ba7",
   "metadata": {},
   "outputs": [],
   "source": [
    "# %%time\n",
    "# # 加载数据\n",
    "# excel_file = 'd:/基于深度学习的海量文本处理/第1阶段/10w.xlsx'\n",
    "# data_frame = pd.read_excel(excel_file)"
   ]
  },
  {
   "cell_type": "code",
   "execution_count": 3,
   "id": "b0311064",
   "metadata": {},
   "outputs": [],
   "source": [
    "# # 随机抽样（预实验使用）\n",
    "# data_frame = data_frame.sample(n=30)\n",
    "# data_frame"
   ]
  },
  {
   "cell_type": "code",
   "execution_count": 4,
   "id": "9b3f54b1",
   "metadata": {},
   "outputs": [],
   "source": [
    "# # 停用词预处理\n",
    "# stop_words = ['您好','你好',':很高兴为您服务','请问有什么可以帮您','client','user',' ']\n",
    "# sep_words = ['。', '!', '?', ',']\n",
    "# def ProcessStopWords(text):\n",
    "#     for word in stop_words:\n",
    "#         text = text.replace(word,'')\n",
    "#     text = text.replace(':','。').replace('。','',1) # 删除第一个。\n",
    "#     # for word in sep_words:\n",
    "#     #     text = text.replace(word, '[SEP]')\n",
    "#     return text\n",
    "\n",
    "# data_frame['转写文本'] = data_frame['转写文本'].map(ProcessStopWords)"
   ]
  },
  {
   "cell_type": "code",
   "execution_count": 5,
   "id": "40a7bd85-a003-4cb6-a9d0-394006be2de6",
   "metadata": {},
   "outputs": [],
   "source": [
    "# data_frame['转写文本'].iloc[0]"
   ]
  },
  {
   "cell_type": "code",
   "execution_count": 6,
   "id": "ca7cf86f",
   "metadata": {},
   "outputs": [],
   "source": [
    "# # 标签预处理\n",
    "# regex = re.compile(r'^.*?>(.*?)>.*?$')\n",
    "# def ProcessLabels(text):\n",
    "#     text = text.replace('>>','>').replace('10019','')\n",
    "#     text = re.match(regex, text).groups()[0]\n",
    "#     return text\n",
    "\n",
    "# data_frame['服务请求'] = data_frame['服务请求'].map(ProcessLabels)"
   ]
  },
  {
   "cell_type": "code",
   "execution_count": 7,
   "id": "afa56f2d",
   "metadata": {},
   "outputs": [],
   "source": [
    "# 预览预处理结果\n",
    "# data_frame['转写文本'].iloc[:10]"
   ]
  },
  {
   "cell_type": "code",
   "execution_count": 8,
   "id": "5cb821bb-84ce-4d0c-a21e-3177611af8fd",
   "metadata": {},
   "outputs": [],
   "source": [
    "# # 训练复盘并分析数据集后，考虑在前面的处理把 样本数<1000 的剔除，即剔除下列：\n",
    "# rm_labels = ['临时','其他','商机','资料信息','业务变更问题','投诉','故障']\n",
    "# for rm_label in rm_labels:\n",
    "#     data_frame.drop(data_frame[data_frame.服务请求 == rm_label].index, inplace=True)\n",
    "# data_frame"
   ]
  },
  {
   "cell_type": "code",
   "execution_count": 9,
   "id": "3dcbb3d0",
   "metadata": {},
   "outputs": [],
   "source": [
    "# # 翻译转写文本\n",
    "# client = Translate(target='en')\n",
    "# temp = np.array([])"
   ]
  },
  {
   "cell_type": "code",
   "execution_count": 10,
   "id": "e0a3ecb4",
   "metadata": {},
   "outputs": [],
   "source": [
    "# # 测试\n",
    "# pd.DataFrame(np.array([trans_res.translatedText for trans_res in client.translate(np.array(data_frame['转写文本'].iloc[0:2]).tolist())]))"
   ]
  },
  {
   "cell_type": "code",
   "execution_count": 11,
   "id": "09a7223b",
   "metadata": {},
   "outputs": [],
   "source": [
    "# total_num = data_frame.shape[0]\n",
    "# batch = 100\n",
    "# epoch = int(total_num/batch)\n",
    "# print(f'共{epoch}部分')\n",
    "# for i in range(epoch):\n",
    "#     if not i == epoch - 1:\n",
    "#         print(f'{i}部分开始')\n",
    "#         translated_res = [trans_res.translatedText for trans_res in client.translate(np.array(data_frame['转写文本'].iloc[i*batch:(i+1)*batch]).tolist())]\n",
    "#     else:\n",
    "#         print('最后一轮开始')\n",
    "#         translated_res = [trans_res.translatedText for trans_res in client.translate(np.array(data_frame['转写文本'].iloc[i*batch:]).tolist())]\n",
    "    \n",
    "#     translated_res = np.array(translated_res)\n",
    "#     temp =  np.concatenate((temp, translated_res), axis=0)\n",
    "#     print(f'第{i}部分已完成')"
   ]
  },
  {
   "cell_type": "code",
   "execution_count": 12,
   "id": "32f1ff4e",
   "metadata": {},
   "outputs": [],
   "source": [
    "# translated_res = temp\n",
    "# len(translated_res)"
   ]
  },
  {
   "cell_type": "code",
   "execution_count": 13,
   "id": "56adb556",
   "metadata": {},
   "outputs": [],
   "source": [
    "# # 加入翻译\n",
    "# # data_frame = data_frame.drop(columns=['translated_text'])\n",
    "# data_frame.insert(0, 'translated_text', value=translated_res)"
   ]
  },
  {
   "cell_type": "code",
   "execution_count": 14,
   "id": "4118e7d5",
   "metadata": {},
   "outputs": [],
   "source": [
    "# # 处理翻译出错的符号\n",
    "# def Finetune_translate(text):\n",
    "#     text = text.replace('&#39;','\\'')\n",
    "#     return text\n",
    "    \n",
    "# data_frame['translated_text'] = data_frame['translated_text'].map(Finetune_translate)\n",
    "# data_frame[:10]"
   ]
  },
  {
   "cell_type": "code",
   "execution_count": 15,
   "id": "caf8c270",
   "metadata": {},
   "outputs": [],
   "source": [
    "# prompts = np.array(data_frame['translated_text'])\n",
    "# choices = np.array(data_frame['服务请求'])"
   ]
  },
  {
   "cell_type": "code",
   "execution_count": 16,
   "id": "184539ad",
   "metadata": {},
   "outputs": [],
   "source": [
    "# data_frame['服务请求']"
   ]
  },
  {
   "cell_type": "code",
   "execution_count": 17,
   "id": "aeb83d59",
   "metadata": {},
   "outputs": [],
   "source": [
    "# # 取最大长度\n",
    "# data_frame.insert(data_frame.shape[1], 'text_len',None)\n",
    "# data_frame['text_len'] = data_frame['translated_text'].map(len)\n",
    "# max_length_index = data_frame['text_len'].argmax()\n",
    "# max_length = data_frame['text_len'].iloc[max_length_index]\n",
    "# max_length_index, max_length"
   ]
  },
  {
   "cell_type": "code",
   "execution_count": 18,
   "id": "18291572",
   "metadata": {},
   "outputs": [],
   "source": [
    "# # 观察文本长度分布（排除异常值）\n",
    "# data_frame.boxplot('text_len', grid=False, showfliers=False, color='Black')\n",
    "# plt.suptitle(\"\")\n",
    "# plt.xlabel(\"\")\n",
    "# plt.show()\n",
    "# # 由图可知，取512足够覆盖正常样本\n",
    "# max_length = 512"
   ]
  },
  {
   "cell_type": "code",
   "execution_count": 19,
   "id": "790333c4",
   "metadata": {
    "scrolled": true
   },
   "outputs": [],
   "source": [
    "# # 去重choices，并保存原choices对应去重后的位置\n",
    "# unique_choices = np.unique(choices)\n",
    "# labels = np.array([np.argwhere(unique_choices==v)[0]  for v in choices])\n",
    "# unique_choices.shape, labels.shape"
   ]
  },
  {
   "cell_type": "code",
   "execution_count": 20,
   "id": "929ac497",
   "metadata": {},
   "outputs": [],
   "source": [
    "# # 加入标签\n",
    "# data_frame.insert(0, 'label', value=labels)\n",
    "# data_frame[:10]"
   ]
  },
  {
   "cell_type": "code",
   "execution_count": 21,
   "id": "9f134167",
   "metadata": {},
   "outputs": [],
   "source": [
    "# # 取出特征与labels\n",
    "# df = data_frame[['label', 'translated_text', '服务请求']]\n",
    "# df[:10]\n",
    "# # 统计\n",
    "# df['label'].value_counts(ascending=True).plot.barh()\n",
    "# plt.title(\"Frequency of Classes\")\n",
    "# plt.show()"
   ]
  },
  {
   "cell_type": "code",
   "execution_count": 22,
   "id": "45f67412",
   "metadata": {},
   "outputs": [],
   "source": [
    "# # 手动处理样本非均衡情况\n",
    "# df4 = df[df['label'] == 4].sample(n=30000)\n",
    "# df2 = df[df['label'] == 2]\n",
    "# df1 = pd.DataFrame(np.repeat(df[df['label'] == 1].values, 2, axis=0), columns=df.columns)\n",
    "# df0 = pd.DataFrame(np.repeat(df[df['label'] == 0].values, 2, axis=0), columns=df.columns)\n",
    "# df3 = pd.DataFrame(np.repeat(df[df['label'] == 3].values, 2, axis=0), columns=df.columns)\n",
    "\n",
    "# df = pd.concat([df0, df1, df2, df3, df4], ignore_index=True)"
   ]
  },
  {
   "cell_type": "code",
   "execution_count": 23,
   "id": "f5a8d1a7",
   "metadata": {},
   "outputs": [],
   "source": [
    "# # 先排序 label，以便后续充分打乱\n",
    "# df = df.sort_values(by='服务请求')"
   ]
  },
  {
   "cell_type": "code",
   "execution_count": 24,
   "id": "b61ae46a",
   "metadata": {},
   "outputs": [],
   "source": [
    "save_excel_path = './PreProcess.xlsx'"
   ]
  },
  {
   "cell_type": "code",
   "execution_count": 25,
   "id": "930a6882",
   "metadata": {},
   "outputs": [],
   "source": [
    "# df.to_excel(save_excel_path) # 保存翻译结果，方便重复使用\n",
    "# df"
   ]
  },
  {
   "cell_type": "code",
   "execution_count": 52,
   "id": "5beb5ca9",
   "metadata": {},
   "outputs": [
    {
     "name": "stdout",
     "output_type": "stream",
     "text": [
      "99326\n"
     ]
    },
    {
     "data": {
      "text/html": [
       "<div>\n",
       "<style scoped>\n",
       "    .dataframe tbody tr th:only-of-type {\n",
       "        vertical-align: middle;\n",
       "    }\n",
       "\n",
       "    .dataframe tbody tr th {\n",
       "        vertical-align: top;\n",
       "    }\n",
       "\n",
       "    .dataframe thead th {\n",
       "        text-align: right;\n",
       "    }\n",
       "</style>\n",
       "<table border=\"1\" class=\"dataframe\">\n",
       "  <thead>\n",
       "    <tr style=\"text-align: right;\">\n",
       "      <th></th>\n",
       "      <th>label</th>\n",
       "      <th>translated_text</th>\n",
       "      <th>服务请求</th>\n",
       "    </tr>\n",
       "  </thead>\n",
       "  <tbody>\n",
       "    <tr>\n",
       "      <th>0</th>\n",
       "      <td>0</td>\n",
       "      <td>Hey, that is my account. The current network i...</td>\n",
       "      <td>不满</td>\n",
       "    </tr>\n",
       "    <tr>\n",
       "      <th>7637</th>\n",
       "      <td>0</td>\n",
       "      <td>How can I help you. Hey, let's see if my numbe...</td>\n",
       "      <td>不满</td>\n",
       "    </tr>\n",
       "    <tr>\n",
       "      <th>2</th>\n",
       "      <td>0</td>\n",
       "      <td>Have the issues I reported not been resolved y...</td>\n",
       "      <td>不满</td>\n",
       "    </tr>\n",
       "    <tr>\n",
       "      <th>3</th>\n",
       "      <td>0</td>\n",
       "      <td>. Sorry, my number is blocked. Sir, please hol...</td>\n",
       "      <td>不满</td>\n",
       "    </tr>\n",
       "    <tr>\n",
       "      <th>4</th>\n",
       "      <td>0</td>\n",
       "      <td>I would like to ask if there is anything I can...</td>\n",
       "      <td>不满</td>\n",
       "    </tr>\n",
       "    <tr>\n",
       "      <th>5</th>\n",
       "      <td>0</td>\n",
       "      <td>Why. Um. I said, hey, my TV is out of order. I...</td>\n",
       "      <td>不满</td>\n",
       "    </tr>\n",
       "    <tr>\n",
       "      <th>7642</th>\n",
       "      <td>0</td>\n",
       "      <td>Can this card be used? Why can't it be activat...</td>\n",
       "      <td>不满</td>\n",
       "    </tr>\n",
       "    <tr>\n",
       "      <th>7643</th>\n",
       "      <td>0</td>\n",
       "      <td>This is my card and I want to cancel it. Is it...</td>\n",
       "      <td>不满</td>\n",
       "    </tr>\n",
       "    <tr>\n",
       "      <th>7644</th>\n",
       "      <td>0</td>\n",
       "      <td>Hey that one. The broadband you have at your h...</td>\n",
       "      <td>不满</td>\n",
       "    </tr>\n",
       "    <tr>\n",
       "      <th>9</th>\n",
       "      <td>0</td>\n",
       "      <td>Then help me restart it. Restart what? Sir. Ah...</td>\n",
       "      <td>不满</td>\n",
       "    </tr>\n",
       "  </tbody>\n",
       "</table>\n",
       "</div>"
      ],
      "text/plain": [
       "   label                                    translated_text 服务请求\n",
       "0      0  Hey, that is my account. The current network i...   不满\n",
       "1      0  How can I help you. Hey, let's see if my numbe...   不满\n",
       "2      0  Have the issues I reported not been resolved y...   不满\n",
       "3      0  . Sorry, my number is blocked. Sir, please hol...   不满\n",
       "4      0  I would like to ask if there is anything I can...   不满\n",
       "5      0  Why. Um. I said, hey, my TV is out of order. I...   不满\n",
       "6      0  Can this card be used? Why can't it be activat...   不满\n",
       "7      0  This is my card and I want to cancel it. Is it...   不满\n",
       "8      0  Hey that one. The broadband you have at your h...   不满\n",
       "9      0  Then help me restart it. Restart what? Sir. Ah...   不满"
      ]
     },
     "execution_count": 52,
     "metadata": {},
     "output_type": "execute_result"
    }
   ],
   "source": [
    "# 用于直接读取预处理完成的结果\n",
    "df = pd.read_excel(save_excel_path)\n",
    "df = df.drop(columns='Unnamed: 0')\n",
    "df.dropna(inplace=True) # drop 空行，防止 tokenize 失败\n",
    "\n",
    "# 预处理结果相关参数\n",
    "max_length = 512\n",
    "classic_num = 5\n",
    "\n",
    "# 预览\n",
    "print(df.shape[0])\n",
    "df[:10]"
   ]
  },
  {
   "cell_type": "code",
   "execution_count": 53,
   "id": "f337b69a",
   "metadata": {},
   "outputs": [
    {
     "data": {
      "text/plain": [
       "(DatasetDict({\n",
       "     train: Dataset({\n",
       "         features: ['label', 'text', '__index_level_0__'],\n",
       "         num_rows: 79460\n",
       "     })\n",
       "     test: Dataset({\n",
       "         features: ['label', 'text', '__index_level_0__'],\n",
       "         num_rows: 19866\n",
       "     })\n",
       " }),\n",
       " {'label': 2,\n",
       "  'text': 'Hey, why is my number suspended? I thought it was suspended and then I just recharged 50 yuan and I said it was suspended. Um. Well, now I can help you see that the current number is experiencing abnormal behavior, so this number has been suspended. I will send you a text message later. There is a link in the text message. You can click on the text message later. Just follow the link to perform a self-service reconnection and you can use it normally. Why did you occupy it? Well, it was detected by the system that there was abnormal behavior. Then I will send you the bonus method later. You can use it normally after completing the self-service reconnection according to the text message steps. OK, all right. So what other businesses do you need to consult? there is none left. Okay, thank you for calling. I wish you a happy life. Goodbye.',\n",
       "  '__index_level_0__': 37535},\n",
       " {'label': 4,\n",
       "  'text': 'Hello. ah. That is, if my data plan is used up, then, uh, how much will the excess data cost be 11g? Well, please wait a moment and let us check it for you. Your excess traffic will be charged at 3 yuan per gigabyte. 3 yuan a piece. Yeah, right, right. So if I want to renew, that is to say, if I renew on that company’s aapp, I will renew my traffic. If Huaxu’s data expires, he will have to call you to cancel at the end of the month, right? Why. Uh-huh. um, yes. OK, OK, OK, I understand. Okay, okay, I won’t disturb you now. I wish you a happy life. Goodbye.',\n",
       "  '__index_level_0__': 68821})"
      ]
     },
     "execution_count": 53,
     "metadata": {},
     "output_type": "execute_result"
    }
   ],
   "source": [
    "# 创建数据集\n",
    "ds = DatasetDict({'train': Dataset.from_pandas(df)})\n",
    "# ds['train'] = ds['train'].rename_column('转写文本','text')\n",
    "ds = ds.remove_columns(['服务请求'])\n",
    "\n",
    "ds['train'] = ds['train'].rename_columns({'translated_text':'text'})\n",
    "ds = ds['train'].train_test_split(0.2, shuffle=True) # 按 8:2 分割数据集\n",
    "\n",
    "# ds = ds.shuffle(88) # 再次打乱数据集\n",
    "ds, ds['train'][0], ds['test'][0]"
   ]
  },
  {
   "cell_type": "code",
   "execution_count": 48,
   "id": "f99bd9b1",
   "metadata": {},
   "outputs": [
    {
     "data": {
      "application/vnd.jupyter.widget-view+json": {
       "model_id": "27090b6deaea47309ab177dd3561b469",
       "version_major": 2,
       "version_minor": 0
      },
      "text/plain": [
       "Map:   0%|          | 0/79460 [00:00<?, ? examples/s]"
      ]
     },
     "metadata": {},
     "output_type": "display_data"
    },
    {
     "data": {
      "application/vnd.jupyter.widget-view+json": {
       "model_id": "a80c9e7c28b74c81ba6e5ba33e3a97b0",
       "version_major": 2,
       "version_minor": 0
      },
      "text/plain": [
       "Map:   0%|          | 0/19866 [00:00<?, ? examples/s]"
      ]
     },
     "metadata": {},
     "output_type": "display_data"
    },
    {
     "name": "stdout",
     "output_type": "stream",
     "text": [
      "Wall time: 49 s\n"
     ]
    }
   ],
   "source": [
    "%%time\n",
    "model_path = './bert-base-cased/'\n",
    "tokenizer = AutoTokenizer.from_pretrained(model_path)\n",
    "def preprocess_function(examples):\n",
    "    return tokenizer(examples[\"text\"], truncation=True, max_length=max_length)\n",
    "\n",
    "tokenized_ds = ds.map(preprocess_function, batched=True)"
   ]
  },
  {
   "cell_type": "code",
   "execution_count": 29,
   "id": "f6877ef7",
   "metadata": {},
   "outputs": [],
   "source": [
    "# 模型\n",
    "data_collator = DataCollatorWithPadding(tokenizer=tokenizer) # 允许不同长度tensor的存在\n",
    "model_config = AutoConfig.from_pretrained(model_path)\n",
    "model_config.num_labels = classic_num\n",
    "model = AutoModelForSequenceClassification.from_config(model_config)"
   ]
  },
  {
   "cell_type": "code",
   "execution_count": 30,
   "id": "caa78d78",
   "metadata": {},
   "outputs": [
    {
     "ename": "NameError",
     "evalue": "name 'tokenized_ds' is not defined",
     "output_type": "error",
     "traceback": [
      "\u001b[1;31m---------------------------------------------------------------------------\u001b[0m",
      "\u001b[1;31mNameError\u001b[0m                                 Traceback (most recent call last)",
      "\u001b[1;32m~\\AppData\\Local\\Temp\\ipykernel_16068\\3763759561.py\u001b[0m in \u001b[0;36m<module>\u001b[1;34m\u001b[0m\n\u001b[1;32m----> 1\u001b[1;33m \u001b[0mtokenized_ds\u001b[0m\u001b[1;33m[\u001b[0m\u001b[1;34m'train'\u001b[0m\u001b[1;33m]\u001b[0m\u001b[1;33m[\u001b[0m\u001b[1;36m0\u001b[0m\u001b[1;33m]\u001b[0m\u001b[1;33m\u001b[0m\u001b[1;33m\u001b[0m\u001b[0m\n\u001b[0m",
      "\u001b[1;31mNameError\u001b[0m: name 'tokenized_ds' is not defined"
     ]
    }
   ],
   "source": [
    "tokenized_ds['train'][0]"
   ]
  },
  {
   "cell_type": "code",
   "execution_count": null,
   "id": "a78c0358",
   "metadata": {},
   "outputs": [],
   "source": [
    "# 评估\n",
    "accuracy = evaluate.load('./evaluate/metrics/accuracy/accuracy.py')\n",
    "def compute_metrics(eval_pred):\n",
    "    predictions, labels = eval_pred\n",
    "    predictions = np.argmax(predictions, axis=1)\n",
    "    return accuracy.compute(predictions=predictions, references=labels)"
   ]
  },
  {
   "cell_type": "code",
   "execution_count": null,
   "id": "ad2d659f",
   "metadata": {},
   "outputs": [],
   "source": [
    "# Adam 训练阶段\n",
    "training_args = TrainingArguments('./output',evaluation_strategy='epoch',save_strategy='epoch', learning_rate=5e-7, \n",
    "                                    load_best_model_at_end=True, num_train_epochs=3, use_cpu=True)\n",
    "trainer = Trainer(model, args=training_args, train_dataset=tokenized_ds['train'], eval_dataset=tokenized_ds['test'], \n",
    "                  tokenizer=tokenizer, data_collator=data_collator, compute_metrics=compute_metrics)"
   ]
  },
  {
   "cell_type": "code",
   "execution_count": null,
   "id": "78796024",
   "metadata": {},
   "outputs": [],
   "source": [
    "%%time\n",
    "# 训练\n",
    "trainer.train(resume_from_checkpoint=False)"
   ]
  },
  {
   "cell_type": "code",
   "execution_count": null,
   "id": "946d210a-5dee-4ce8-93c3-5f0b5ef04c84",
   "metadata": {},
   "outputs": [],
   "source": [
    "# SGD 训练阶段\n",
    "ds = ds.shuffle(88) # 再次打乱数据集\n",
    "optimizer = torch.optim.SGD(model.parameters(), lr=5e-8)\n",
    "lr_scheduler = torch.optim.lr_scheduler.LambdaLR(optimizer, lr_lambda=lambda epoch: 1/(epoch+1))\n",
    "training_args = TrainingArguments('./output',evaluation_strategy='epoch',save_strategy='epoch',\n",
    "                                load_best_model_at_end=True, num_train_epochs=5)\n",
    "trainer = Trainer(model, args=training_args, train_dataset=tokenized_ds['train'], eval_dataset=tokenized_ds['test'], \n",
    "                  tokenizer=tokenizer, data_collator=data_collator, \n",
    "                  compute_metrics=compute_metrics, optimizers=(optimizer, lr_scheduler))"
   ]
  },
  {
   "cell_type": "code",
   "execution_count": null,
   "id": "294f643e-7d67-485f-998f-4c00291efdda",
   "metadata": {},
   "outputs": [],
   "source": [
    "%%time\n",
    "# 精准训练\n",
    "trainer.train(resume_from_checkpoint=False)"
   ]
  }
 ],
 "metadata": {
  "kernelspec": {
   "display_name": "Python 3 (ipykernel)",
   "language": "python",
   "name": "python3"
  },
  "language_info": {
   "codemirror_mode": {
    "name": "ipython",
    "version": 3
   },
   "file_extension": ".py",
   "mimetype": "text/x-python",
   "name": "python",
   "nbconvert_exporter": "python",
   "pygments_lexer": "ipython3",
   "version": "3.9.13"
  }
 },
 "nbformat": 4,
 "nbformat_minor": 5
}
