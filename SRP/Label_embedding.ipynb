{
 "cells": [
  {
   "cell_type": "code",
   "execution_count": 1,
   "id": "c41b6709",
   "metadata": {},
   "outputs": [],
   "source": [
    "import torch\n",
    "from transformers import BertConfig,BertTokenizer,BertModel\n",
    "from torch import nn\n",
    "import os\n",
    "os.environ['KMP_DUPLICATE_LIB_OK']='True'\n",
    "import matplotlib.pyplot as plt\n",
    "from IPython import display\n",
    "from d2l import torch as d2l\n",
    "import numpy as np\n",
    "import pandas as pd"
   ]
  },
  {
   "cell_type": "code",
   "execution_count": 2,
   "id": "8f4a8ba7",
   "metadata": {},
   "outputs": [],
   "source": [
    "# 加载数据\n",
    "excel_file = 'D:/基于深度学习的海量文本处理/第1阶段/10w.xlsx'\n",
    "data_frame = pd.read_excel(excel_file)"
   ]
  },
  {
   "cell_type": "code",
   "execution_count": 3,
   "id": "9b3f54b1",
   "metadata": {},
   "outputs": [],
   "source": [
    "# 停用词预处理\n",
    "stop_words = ['您好','你好','很高兴为您服务','请问有什么可以帮您','client','user',':',' ']\n",
    "def ProcessStopWords(text):\n",
    "    for word in stop_words:\n",
    "        text = text.replace(word,'')\n",
    "    return text\n",
    "\n",
    "data_frame['转写文本'] = data_frame['转写文本'].map(ProcessStopWords)"
   ]
  },
  {
   "cell_type": "code",
   "execution_count": 5,
   "id": "ca7cf86f",
   "metadata": {},
   "outputs": [],
   "source": [
    "# 标签预处理\n",
    "def ProcessLabels(text):\n",
    "    word = '>>'\n",
    "    text = text.replace(word,'>')\n",
    "    return text\n",
    "\n",
    "data_frame['服务请求'] = data_frame['服务请求'].map(ProcessLabels)"
   ]
  },
  {
   "cell_type": "code",
   "execution_count": 6,
   "id": "afa56f2d",
   "metadata": {},
   "outputs": [
    {
     "data": {
      "text/plain": [
       "0    哎我想问一下,我这个一三九的号码那个扣费方式是怎么样的扣费方式的话它是每个月呢就是每个月的一...\n",
       "1    喂我那个宽带不能用宽带故障了是吗哦现在不能用前前几天就不能用了稍等我帮您看一下嗯稍等一下3天...\n",
       "2    哎我我办理这个那个我想问一下我这个号码有没有开通5g套餐呀我看一下您这里有开通5g业务可以享...\n",
       "3    请不要挂机您拨叫的用户正在通话中请唔好挂机您拨叫凯用户正在通话中嗯由于您多次没有声音我将结束...\n",
       "4    喂我想咨询一下我的那个联通卡怎么回事啊,我都没用过嗯您可以提供一下吗这个号码就是我我号码我都...\n",
       "5    嗯我想问一下我这个卡是啊升了5g上次是帮我升了5g然后现在是月租是54.5元上网费又是30一...\n",
       "6                                                不要我有卡\n",
       "7    我的号码为啥暂暂停服务了稍等一下我帮您看了一下的话您之前的话有反映过这个问题的是吧然后的话我...\n",
       "8    哎你查一下我这个话费还有余额吗您这边还有8.95元怎么打不了怎么没有信号呢网络没有了呢呃信号...\n",
       "9    哎先生哦嗯我想问一下现在如果这个号码要补号码的话那个身份证复印件有没有有效的补卡补卡要原件的...\n",
       "Name: 转写文本, dtype: object"
      ]
     },
     "execution_count": 6,
     "metadata": {},
     "output_type": "execute_result"
    }
   ],
   "source": [
    "# 预览预处理结果\n",
    "data_frame['转写文本'].iloc[:10]"
   ]
  },
  {
   "cell_type": "code",
   "execution_count": 7,
   "id": "caf8c270",
   "metadata": {},
   "outputs": [],
   "source": [
    "features = np.array(data_frame['转写文本'])\n",
    "labels = np.array(data_frame['服务请求'])"
   ]
  },
  {
   "cell_type": "code",
   "execution_count": 8,
   "id": "f5b72db5",
   "metadata": {},
   "outputs": [],
   "source": [
    "# 加载 bert 模型\n",
    "model_path = './bert-base-chinese/'\n",
    "model_config = BertConfig.from_pretrained(model_path)\n",
    "# 可修改模型参数\n",
    "\n",
    "tokenizer = BertTokenizer.from_pretrained(model_path)\n",
    "model = BertModel.from_pretrained(model_path, config=model_config)"
   ]
  },
  {
   "cell_type": "code",
   "execution_count": 9,
   "id": "cab75b38",
   "metadata": {},
   "outputs": [],
   "source": [
    "all_features = tokenizer(features.tolist(),return_tensors='pt',padding=True, truncation=True,max_length=512)\n",
    "all_labels = tokenizer(labels.tolist(),return_tensors='pt',padding=True, truncation=True,max_length=100)"
   ]
  },
  {
   "cell_type": "code",
   "execution_count": 10,
   "id": "541375ae",
   "metadata": {},
   "outputs": [
    {
     "data": {
      "text/plain": [
       "(torch.Size([100000, 512]), torch.Size([100000, 75]))"
      ]
     },
     "execution_count": 10,
     "metadata": {},
     "output_type": "execute_result"
    }
   ],
   "source": [
    "# 预览特征与标签\n",
    "all_features.input_ids.shape, all_labels.input_ids.shape"
   ]
  },
  {
   "cell_type": "code",
   "execution_count": null,
   "id": "04fb5ab1",
   "metadata": {},
   "outputs": [],
   "source": [
    "# 在 GPU 上训练\n",
    "device = 'cuda'\n",
    "model.to(device)"
   ]
  },
  {
   "cell_type": "code",
   "execution_count": null,
   "id": "7b6a5dc1",
   "metadata": {},
   "outputs": [],
   "source": [
    "with torch.no_grad():\n",
    "    logits = model(labels_list[1]).logits\n",
    "    rid = logits.argmax().item()\n",
    "    model.config.id2label[rid]"
   ]
  },
  {
   "cell_type": "code",
   "execution_count": null,
   "id": "d6c5c399",
   "metadata": {},
   "outputs": [],
   "source": [
    "class BertClassifier(nn.Module):\n",
    "    def __init__(self, dropout=0.5):\n",
    "        super(BertClassifier, self).__init__()\n",
    "        self.bert = BertModel.from_pretrained('bert-base-chinese')\n",
    "        self.dropout = nn.Dropout(dropout)\n",
    "        self.linear = nn.Linear(768, 5)\n",
    "        self.relu = nn.ReLU()\n",
    "    def forward(self, input_id, mask):\n",
    "        _, pooled_output = self.bert(input_ids= input_id, attention_mask=mask,return_dict=False)\n",
    "        dropout_output = self.dropout(pooled_output)\n",
    "        linear_output = self.linear(dropout_output)\n",
    "        final_layer = self.relu(linear_output)\n",
    "        return final_layer"
   ]
  },
  {
   "cell_type": "code",
   "execution_count": null,
   "id": "b85ec66f",
   "metadata": {},
   "outputs": [],
   "source": []
  }
 ],
 "metadata": {
  "kernelspec": {
   "display_name": "Python 3 (ipykernel)",
   "language": "python",
   "name": "python3"
  },
  "language_info": {
   "codemirror_mode": {
    "name": "ipython",
    "version": 3
   },
   "file_extension": ".py",
   "mimetype": "text/x-python",
   "name": "python",
   "nbconvert_exporter": "python",
   "pygments_lexer": "ipython3",
   "version": "3.9.13"
  }
 },
 "nbformat": 4,
 "nbformat_minor": 5
}
